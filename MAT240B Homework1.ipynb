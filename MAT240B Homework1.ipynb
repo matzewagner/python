{
 "metadata": {
  "name": "",
  "signature": "sha256:ed7d2e68826d2019c2d858ca11da9100b31fa9e2e87eda97ac192e13d9b109bd"
 },
 "nbformat": 3,
 "nbformat_minor": 0,
 "worksheets": [
  {
   "cells": [
    {
     "cell_type": "code",
     "collapsed": false,
     "input": [
      "%pylab inline\n",
      "import mpld3\n",
      "mpld3.enable_notebook()"
     ],
     "language": "python",
     "metadata": {},
     "outputs": [
      {
       "output_type": "stream",
       "stream": "stdout",
       "text": [
        "Populating the interactive namespace from numpy and matplotlib\n"
       ]
      }
     ],
     "prompt_number": 1
    },
    {
     "cell_type": "code",
     "collapsed": false,
     "input": [
      "steps = linspace(0,19950,88)"
     ],
     "language": "python",
     "metadata": {},
     "outputs": [],
     "prompt_number": 2
    },
    {
     "cell_type": "code",
     "collapsed": false,
     "input": [
      "f =((steps**2)/19950)+50"
     ],
     "language": "python",
     "metadata": {},
     "outputs": [],
     "prompt_number": 3
    },
    {
     "cell_type": "code",
     "collapsed": false,
     "input": [
      "fig = figure(figsize=(10,6))\n",
      "grid()\n",
      "xlabel('note', fontsize=16, labelpad=10)\n",
      "ylabel('frequency', fontsize=16, labelpad=20)\n",
      "plot(f, 'ys', drawstyle='steps')"
     ],
     "language": "python",
     "metadata": {},
     "outputs": [
      {
       "metadata": {},
       "output_type": "pyout",
       "prompt_number": 4,
       "text": [
        "[<matplotlib.lines.Line2D at 0x108959630>]"
       ]
      },
      {
       "html": [
        "\n",
        "\n",
        "<style>\n",
        "\n",
        "</style>\n",
        "\n",
        "<div id=\"fig_el1382944389616249730746523\"></div>\n",
        "<script>\n",
        "function mpld3_load_lib(url, callback){\n",
        "  var s = document.createElement('script');\n",
        "  s.src = url;\n",
        "  s.async = true;\n",
        "  s.onreadystatechange = s.onload = callback;\n",
        "  s.onerror = function(){console.warn(\"failed to load library \" + url);};\n",
        "  document.getElementsByTagName(\"head\")[0].appendChild(s);\n",
        "}\n",
        "\n",
        "if(typeof(mpld3) !== \"undefined\" && mpld3._mpld3IsLoaded){\n",
        "   // already loaded: just create the figure\n",
        "   !function(mpld3){\n",
        "       \n",
        "       mpld3.draw_figure(\"fig_el1382944389616249730746523\", {\"height\": 480.0, \"width\": 800.0, \"data\": {\"data01\": [[0.0, 50.0], [1.0, 52.63575108997225], [2.0, 60.543004359889025], [3.0, 73.7217598097503], [4.0, 92.1720174395561], [5.0, 115.8937772493064], [6.0, 144.88703923900118], [7.0, 179.15180340864052], [8.0, 218.68806975822437], [9.0, 263.4958382877527], [10.0, 313.5751089972256], [11.0, 368.9258818866429], [12.0, 429.54815695600473], [13.0, 495.4419342053112], [14.0, 566.6072136345621], [15.0, 643.0439952437575], [16.0, 724.7522790328975], [17.0, 811.7320650019818], [18.0, 903.9833531510108], [19.0, 1001.5061434799843], [20.0, 1104.3004359889023], [21.0, 1212.3662306777646], [22.0, 1325.7035275465716], [23.0, 1444.3123265953232], [24.0, 1568.192627824019], [25.0, 1697.3444312326599], [26.0, 1831.7677368212449], [27.0, 1971.4625445897743], [28.0, 2116.4288545382483], [29.0, 2266.6666666666665], [30.0, 2422.17598097503], [31.0, 2582.956797463338], [32.0, 2749.00911613159], [33.0, 2920.332936979786], [34.0, 3096.9282600079273], [35.0, 3278.7950852160134], [36.0, 3465.933412604043], [37.0, 3658.3432421720177], [38.0, 3856.024573919937], [39.0, 4058.9774078478004], [40.0, 4267.201743955609], [41.0, 4480.6975822433615], [42.0, 4699.4649227110585], [43.0, 4923.5037653587015], [44.0, 5152.814110186287], [45.0, 5387.3959571938185], [46.0, 5627.249306381293], [47.0, 5872.3741577487135], [48.0, 6122.770511296076], [49.0, 6378.438367023385], [50.0, 6639.3777249306395], [51.0, 6905.588585017836], [52.0, 7177.070947284979], [53.0, 7453.824811732065], [54.0, 7735.850178359097], [55.0, 8023.147047166074], [56.0, 8315.715418152993], [57.0, 8613.555291319859], [58.0, 8916.666666666666], [59.0, 9225.049544193422], [60.0, 9538.70392390012], [61.0, 9857.629805786763], [62.0, 10181.827189853351], [63.0, 10511.296076099881], [64.0, 10846.03646452636], [65.0, 11186.04835513278], [66.0, 11531.331747919145], [67.0, 11881.886642885456], [68.0, 12237.71304003171], [69.0, 12598.810939357909], [70.0, 12965.180340864054], [71.0, 13336.82124455014], [72.0, 13713.733650416172], [73.0, 14095.917558462148], [74.0, 14483.37296868807], [75.0, 14876.099881093938], [76.0, 15274.098295679749], [77.0, 15677.368212445503], [78.0, 16085.909631391201], [79.0, 16499.722552516847], [80.0, 16918.806975822437], [81.0, 17343.162901307973], [82.0, 17772.790328973446], [83.0, 18207.689258818868], [84.0, 18647.859690844234], [85.0, 19093.301625049546], [86.0, 19544.015061434806], [87.0, 20000.0]]}, \"id\": \"el138294438961624\", \"plugins\": [{\"type\": \"reset\"}, {\"button\": true, \"type\": \"zoom\", \"enabled\": false}, {\"button\": true, \"type\": \"boxzoom\", \"enabled\": false}], \"axes\": [{\"axesbg\": \"#FFFFFF\", \"paths\": [], \"ydomain\": [0.0, 20000.0], \"texts\": [{\"h_anchor\": \"middle\", \"fontsize\": 16.0, \"v_baseline\": \"hanging\", \"zorder\": 3, \"rotation\": -0.0, \"color\": \"#000000\", \"alpha\": 1, \"coordinates\": \"axes\", \"id\": \"el138294439087592\", \"position\": [0.5, -0.06869772998805258], \"text\": \"note\"}, {\"h_anchor\": \"middle\", \"fontsize\": 16.0, \"v_baseline\": \"auto\", \"zorder\": 3, \"rotation\": -90.0, \"color\": \"#000000\", \"alpha\": 1, \"coordinates\": \"axes\", \"id\": \"el138294439191736\", \"position\": [-0.09774865591397848, 0.5], \"text\": \"frequency\"}], \"sharex\": [], \"xlim\": [0.0, 90.0], \"markers\": [{\"yindex\": 1, \"edgecolor\": \"#000000\", \"coordinates\": \"data\", \"data\": \"data01\", \"id\": \"el138294438988336pts\", \"xindex\": 0, \"markerpath\": [[[-3.0, 3.0], [3.0, 3.0], [3.0, -3.0], [-3.0, -3.0]], [\"M\", \"L\", \"L\", \"L\", \"Z\"]], \"zorder\": 2, \"facecolor\": \"#BFBF00\", \"alpha\": 1, \"edgewidth\": 0.5}], \"ylim\": [0.0, 20000.0], \"images\": [], \"axes\": [{\"tickvalues\": null, \"nticks\": 10, \"grid\": {\"dasharray\": \"2,2\", \"alpha\": 1.0, \"color\": \"#000000\", \"gridOn\": true}, \"fontsize\": 10.0, \"tickformat\": null, \"position\": \"bottom\", \"scale\": \"linear\"}, {\"tickvalues\": null, \"nticks\": 5, \"grid\": {\"dasharray\": \"2,2\", \"alpha\": 1.0, \"color\": \"#000000\", \"gridOn\": true}, \"fontsize\": 10.0, \"tickformat\": null, \"position\": \"left\", \"scale\": \"linear\"}], \"lines\": [], \"collections\": [], \"zoomable\": true, \"bbox\": [0.125, 0.125, 0.775, 0.775], \"xscale\": \"linear\", \"id\": \"el138294438961512\", \"axesbgalpha\": null, \"xdomain\": [0.0, 90.0], \"yscale\": \"linear\", \"sharey\": []}]});\n",
        "   }(mpld3);\n",
        "}else if(typeof define === \"function\" && define.amd){\n",
        "   // require.js is available: use it to load d3/mpld3\n",
        "   require.config({paths: {d3: \"https://mpld3.github.io/js/d3.v3.min\"}});\n",
        "   require([\"d3\"], function(d3){\n",
        "      window.d3 = d3;\n",
        "      mpld3_load_lib(\"https://mpld3.github.io/js/mpld3.v0.2.js\", function(){\n",
        "         \n",
        "         mpld3.draw_figure(\"fig_el1382944389616249730746523\", {\"height\": 480.0, \"width\": 800.0, \"data\": {\"data01\": [[0.0, 50.0], [1.0, 52.63575108997225], [2.0, 60.543004359889025], [3.0, 73.7217598097503], [4.0, 92.1720174395561], [5.0, 115.8937772493064], [6.0, 144.88703923900118], [7.0, 179.15180340864052], [8.0, 218.68806975822437], [9.0, 263.4958382877527], [10.0, 313.5751089972256], [11.0, 368.9258818866429], [12.0, 429.54815695600473], [13.0, 495.4419342053112], [14.0, 566.6072136345621], [15.0, 643.0439952437575], [16.0, 724.7522790328975], [17.0, 811.7320650019818], [18.0, 903.9833531510108], [19.0, 1001.5061434799843], [20.0, 1104.3004359889023], [21.0, 1212.3662306777646], [22.0, 1325.7035275465716], [23.0, 1444.3123265953232], [24.0, 1568.192627824019], [25.0, 1697.3444312326599], [26.0, 1831.7677368212449], [27.0, 1971.4625445897743], [28.0, 2116.4288545382483], [29.0, 2266.6666666666665], [30.0, 2422.17598097503], [31.0, 2582.956797463338], [32.0, 2749.00911613159], [33.0, 2920.332936979786], [34.0, 3096.9282600079273], [35.0, 3278.7950852160134], [36.0, 3465.933412604043], [37.0, 3658.3432421720177], [38.0, 3856.024573919937], [39.0, 4058.9774078478004], [40.0, 4267.201743955609], [41.0, 4480.6975822433615], [42.0, 4699.4649227110585], [43.0, 4923.5037653587015], [44.0, 5152.814110186287], [45.0, 5387.3959571938185], [46.0, 5627.249306381293], [47.0, 5872.3741577487135], [48.0, 6122.770511296076], [49.0, 6378.438367023385], [50.0, 6639.3777249306395], [51.0, 6905.588585017836], [52.0, 7177.070947284979], [53.0, 7453.824811732065], [54.0, 7735.850178359097], [55.0, 8023.147047166074], [56.0, 8315.715418152993], [57.0, 8613.555291319859], [58.0, 8916.666666666666], [59.0, 9225.049544193422], [60.0, 9538.70392390012], [61.0, 9857.629805786763], [62.0, 10181.827189853351], [63.0, 10511.296076099881], [64.0, 10846.03646452636], [65.0, 11186.04835513278], [66.0, 11531.331747919145], [67.0, 11881.886642885456], [68.0, 12237.71304003171], [69.0, 12598.810939357909], [70.0, 12965.180340864054], [71.0, 13336.82124455014], [72.0, 13713.733650416172], [73.0, 14095.917558462148], [74.0, 14483.37296868807], [75.0, 14876.099881093938], [76.0, 15274.098295679749], [77.0, 15677.368212445503], [78.0, 16085.909631391201], [79.0, 16499.722552516847], [80.0, 16918.806975822437], [81.0, 17343.162901307973], [82.0, 17772.790328973446], [83.0, 18207.689258818868], [84.0, 18647.859690844234], [85.0, 19093.301625049546], [86.0, 19544.015061434806], [87.0, 20000.0]]}, \"id\": \"el138294438961624\", \"plugins\": [{\"type\": \"reset\"}, {\"button\": true, \"type\": \"zoom\", \"enabled\": false}, {\"button\": true, \"type\": \"boxzoom\", \"enabled\": false}], \"axes\": [{\"axesbg\": \"#FFFFFF\", \"paths\": [], \"ydomain\": [0.0, 20000.0], \"texts\": [{\"h_anchor\": \"middle\", \"fontsize\": 16.0, \"v_baseline\": \"hanging\", \"zorder\": 3, \"rotation\": -0.0, \"color\": \"#000000\", \"alpha\": 1, \"coordinates\": \"axes\", \"id\": \"el138294439087592\", \"position\": [0.5, -0.06869772998805258], \"text\": \"note\"}, {\"h_anchor\": \"middle\", \"fontsize\": 16.0, \"v_baseline\": \"auto\", \"zorder\": 3, \"rotation\": -90.0, \"color\": \"#000000\", \"alpha\": 1, \"coordinates\": \"axes\", \"id\": \"el138294439191736\", \"position\": [-0.09774865591397848, 0.5], \"text\": \"frequency\"}], \"sharex\": [], \"xlim\": [0.0, 90.0], \"markers\": [{\"yindex\": 1, \"edgecolor\": \"#000000\", \"coordinates\": \"data\", \"data\": \"data01\", \"id\": \"el138294438988336pts\", \"xindex\": 0, \"markerpath\": [[[-3.0, 3.0], [3.0, 3.0], [3.0, -3.0], [-3.0, -3.0]], [\"M\", \"L\", \"L\", \"L\", \"Z\"]], \"zorder\": 2, \"facecolor\": \"#BFBF00\", \"alpha\": 1, \"edgewidth\": 0.5}], \"ylim\": [0.0, 20000.0], \"images\": [], \"axes\": [{\"tickvalues\": null, \"nticks\": 10, \"grid\": {\"dasharray\": \"2,2\", \"alpha\": 1.0, \"color\": \"#000000\", \"gridOn\": true}, \"fontsize\": 10.0, \"tickformat\": null, \"position\": \"bottom\", \"scale\": \"linear\"}, {\"tickvalues\": null, \"nticks\": 5, \"grid\": {\"dasharray\": \"2,2\", \"alpha\": 1.0, \"color\": \"#000000\", \"gridOn\": true}, \"fontsize\": 10.0, \"tickformat\": null, \"position\": \"left\", \"scale\": \"linear\"}], \"lines\": [], \"collections\": [], \"zoomable\": true, \"bbox\": [0.125, 0.125, 0.775, 0.775], \"xscale\": \"linear\", \"id\": \"el138294438961512\", \"axesbgalpha\": null, \"xdomain\": [0.0, 90.0], \"yscale\": \"linear\", \"sharey\": []}]});\n",
        "      });\n",
        "    });\n",
        "}else{\n",
        "    // require.js not available: dynamically load d3 & mpld3\n",
        "    mpld3_load_lib(\"https://mpld3.github.io/js/d3.v3.min.js\", function(){\n",
        "         mpld3_load_lib(\"https://mpld3.github.io/js/mpld3.v0.2.js\", function(){\n",
        "                 \n",
        "                 mpld3.draw_figure(\"fig_el1382944389616249730746523\", {\"height\": 480.0, \"width\": 800.0, \"data\": {\"data01\": [[0.0, 50.0], [1.0, 52.63575108997225], [2.0, 60.543004359889025], [3.0, 73.7217598097503], [4.0, 92.1720174395561], [5.0, 115.8937772493064], [6.0, 144.88703923900118], [7.0, 179.15180340864052], [8.0, 218.68806975822437], [9.0, 263.4958382877527], [10.0, 313.5751089972256], [11.0, 368.9258818866429], [12.0, 429.54815695600473], [13.0, 495.4419342053112], [14.0, 566.6072136345621], [15.0, 643.0439952437575], [16.0, 724.7522790328975], [17.0, 811.7320650019818], [18.0, 903.9833531510108], [19.0, 1001.5061434799843], [20.0, 1104.3004359889023], [21.0, 1212.3662306777646], [22.0, 1325.7035275465716], [23.0, 1444.3123265953232], [24.0, 1568.192627824019], [25.0, 1697.3444312326599], [26.0, 1831.7677368212449], [27.0, 1971.4625445897743], [28.0, 2116.4288545382483], [29.0, 2266.6666666666665], [30.0, 2422.17598097503], [31.0, 2582.956797463338], [32.0, 2749.00911613159], [33.0, 2920.332936979786], [34.0, 3096.9282600079273], [35.0, 3278.7950852160134], [36.0, 3465.933412604043], [37.0, 3658.3432421720177], [38.0, 3856.024573919937], [39.0, 4058.9774078478004], [40.0, 4267.201743955609], [41.0, 4480.6975822433615], [42.0, 4699.4649227110585], [43.0, 4923.5037653587015], [44.0, 5152.814110186287], [45.0, 5387.3959571938185], [46.0, 5627.249306381293], [47.0, 5872.3741577487135], [48.0, 6122.770511296076], [49.0, 6378.438367023385], [50.0, 6639.3777249306395], [51.0, 6905.588585017836], [52.0, 7177.070947284979], [53.0, 7453.824811732065], [54.0, 7735.850178359097], [55.0, 8023.147047166074], [56.0, 8315.715418152993], [57.0, 8613.555291319859], [58.0, 8916.666666666666], [59.0, 9225.049544193422], [60.0, 9538.70392390012], [61.0, 9857.629805786763], [62.0, 10181.827189853351], [63.0, 10511.296076099881], [64.0, 10846.03646452636], [65.0, 11186.04835513278], [66.0, 11531.331747919145], [67.0, 11881.886642885456], [68.0, 12237.71304003171], [69.0, 12598.810939357909], [70.0, 12965.180340864054], [71.0, 13336.82124455014], [72.0, 13713.733650416172], [73.0, 14095.917558462148], [74.0, 14483.37296868807], [75.0, 14876.099881093938], [76.0, 15274.098295679749], [77.0, 15677.368212445503], [78.0, 16085.909631391201], [79.0, 16499.722552516847], [80.0, 16918.806975822437], [81.0, 17343.162901307973], [82.0, 17772.790328973446], [83.0, 18207.689258818868], [84.0, 18647.859690844234], [85.0, 19093.301625049546], [86.0, 19544.015061434806], [87.0, 20000.0]]}, \"id\": \"el138294438961624\", \"plugins\": [{\"type\": \"reset\"}, {\"button\": true, \"type\": \"zoom\", \"enabled\": false}, {\"button\": true, \"type\": \"boxzoom\", \"enabled\": false}], \"axes\": [{\"axesbg\": \"#FFFFFF\", \"paths\": [], \"ydomain\": [0.0, 20000.0], \"texts\": [{\"h_anchor\": \"middle\", \"fontsize\": 16.0, \"v_baseline\": \"hanging\", \"zorder\": 3, \"rotation\": -0.0, \"color\": \"#000000\", \"alpha\": 1, \"coordinates\": \"axes\", \"id\": \"el138294439087592\", \"position\": [0.5, -0.06869772998805258], \"text\": \"note\"}, {\"h_anchor\": \"middle\", \"fontsize\": 16.0, \"v_baseline\": \"auto\", \"zorder\": 3, \"rotation\": -90.0, \"color\": \"#000000\", \"alpha\": 1, \"coordinates\": \"axes\", \"id\": \"el138294439191736\", \"position\": [-0.09774865591397848, 0.5], \"text\": \"frequency\"}], \"sharex\": [], \"xlim\": [0.0, 90.0], \"markers\": [{\"yindex\": 1, \"edgecolor\": \"#000000\", \"coordinates\": \"data\", \"data\": \"data01\", \"id\": \"el138294438988336pts\", \"xindex\": 0, \"markerpath\": [[[-3.0, 3.0], [3.0, 3.0], [3.0, -3.0], [-3.0, -3.0]], [\"M\", \"L\", \"L\", \"L\", \"Z\"]], \"zorder\": 2, \"facecolor\": \"#BFBF00\", \"alpha\": 1, \"edgewidth\": 0.5}], \"ylim\": [0.0, 20000.0], \"images\": [], \"axes\": [{\"tickvalues\": null, \"nticks\": 10, \"grid\": {\"dasharray\": \"2,2\", \"alpha\": 1.0, \"color\": \"#000000\", \"gridOn\": true}, \"fontsize\": 10.0, \"tickformat\": null, \"position\": \"bottom\", \"scale\": \"linear\"}, {\"tickvalues\": null, \"nticks\": 5, \"grid\": {\"dasharray\": \"2,2\", \"alpha\": 1.0, \"color\": \"#000000\", \"gridOn\": true}, \"fontsize\": 10.0, \"tickformat\": null, \"position\": \"left\", \"scale\": \"linear\"}], \"lines\": [], \"collections\": [], \"zoomable\": true, \"bbox\": [0.125, 0.125, 0.775, 0.775], \"xscale\": \"linear\", \"id\": \"el138294438961512\", \"axesbgalpha\": null, \"xdomain\": [0.0, 90.0], \"yscale\": \"linear\", \"sharey\": []}]});\n",
        "            })\n",
        "         });\n",
        "}\n",
        "</script>"
       ],
       "metadata": {},
       "output_type": "display_data",
       "png": "[encoded data removed]",
       "text": [
        "<matplotlib.figure.Figure at 0x108952dd8>"
       ]
      }
     ],
     "prompt_number": 4
    },
    {
     "cell_type": "code",
     "collapsed": false,
     "input": [
      "set_printoptions(suppress=True)\n",
      "print(f)"
     ],
     "language": "python",
     "metadata": {},
     "outputs": [
      {
       "output_type": "stream",
       "stream": "stdout",
       "text": [
        "[    50.             52.63575109     60.54300436     73.72175981\n",
        "     92.17201744    115.89377725    144.88703924    179.15180341\n",
        "    218.68806976    263.49583829    313.575109      368.92588189\n",
        "    429.54815696    495.44193421    566.60721363    643.04399524\n",
        "    724.75227903    811.732065      903.98335315   1001.50614348\n",
        "   1104.30043599   1212.36623068   1325.70352755   1444.3123266\n",
        "   1568.19262782   1697.34443123   1831.76773682   1971.46254459\n",
        "   2116.42885454   2266.66666667   2422.17598098   2582.95679746\n",
        "   2749.00911613   2920.33293698   3096.92826001   3278.79508522\n",
        "   3465.9334126    3658.34324217   3856.02457392   4058.97740785\n",
        "   4267.20174396   4480.69758224   4699.46492271   4923.50376536\n",
        "   5152.81411019   5387.39595719   5627.24930638   5872.37415775\n",
        "   6122.7705113    6378.43836702   6639.37772493   6905.58858502\n",
        "   7177.07094728   7453.82481173   7735.85017836   8023.14704717\n",
        "   8315.71541815   8613.55529132   8916.66666667   9225.04954419\n",
        "   9538.7039239    9857.62980579  10181.82718985  10511.2960761\n",
        "  10846.03646453  11186.04835513  11531.33174792  11881.88664289\n",
        "  12237.71304003  12598.81093936  12965.18034086  13336.82124455\n",
        "  13713.73365042  14095.91755846  14483.37296869  14876.09988109\n",
        "  15274.09829568  15677.36821245  16085.90963139  16499.72255252\n",
        "  16918.80697582  17343.16290131  17772.79032897  18207.68925882\n",
        "  18647.85969084  19093.30162505  19544.01506143  20000.        ]\n"
       ]
      }
     ],
     "prompt_number": 5
    },
    {
     "cell_type": "code",
     "collapsed": false,
     "input": [],
     "language": "python",
     "metadata": {},
     "outputs": []
    }
   ],
   "metadata": {}
  }
 ]
}