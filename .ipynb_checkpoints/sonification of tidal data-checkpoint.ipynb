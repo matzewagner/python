{
 "cells": [
  {
   "cell_type": "markdown",
   "metadata": {},
   "source": [
    "# Audification of tidal data from 1950 and 2000 of the coast of Santa Barbara"
   ]
  },
  {
   "cell_type": "code",
   "execution_count": 1,
   "metadata": {
    "collapsed": false
   },
   "outputs": [
    {
     "name": "stdout",
     "output_type": "stream",
     "text": [
      "Populating the interactive namespace from numpy and matplotlib\n"
     ]
    }
   ],
   "source": [
    "%pylab inline\n",
    "from IPython.display import HTML\n",
    "from __future__ import print_function\n",
    "import urllib2\n",
    "import json\n",
    "from IPython.display import Audio\n",
    "\n",
    "sr = 44100"
   ]
  },
  {
   "cell_type": "code",
   "execution_count": null,
   "metadata": {
    "collapsed": false
   },
   "outputs": [
    {
     "data": {
      "text/html": [
       "<script>\n",
       "code_show=false; \n",
       "function code_toggle() {\n",
       " if (code_show){\n",
       " $('div.input').hide();\n",
       " } else {\n",
       " $('div.input').show();\n",
       " }\n",
       " code_show = !code_show\n",
       "} \n",
       "$( document ).ready(code_toggle);\n",
       "</script>\n",
       "The raw code for this IPython notebook is by default hidden for easier reading.\n",
       "To toggle on/off the raw code, click <a href=\"javascript:code_toggle()\">here</a>."
      ],
      "text/plain": [
       "<IPython.core.display.HTML object>"
      ]
     },
     "execution_count": 2,
     "metadata": {},
     "output_type": "execute_result"
    }
   ],
   "source": [
    "HTML('''<script>\n",
    "code_show=false; \n",
    "function code_toggle() {\n",
    " if (code_show){\n",
    " $('div.input').hide();\n",
    " } else {\n",
    " $('div.input').show();\n",
    " }\n",
    " code_show = !code_show\n",
    "} \n",
    "$( document ).ready(code_toggle);\n",
    "</script>\n",
    "The raw code for this IPython notebook is by default hidden for easier reading.\n",
    "To toggle on/off the raw code, click <a href=\"javascript:code_toggle()\">here</a>.''')"
   ]
  },
  {
   "cell_type": "markdown",
   "metadata": {},
   "source": [
    "This query returns the mean sea level measured from the tidal station Santa Barbara between Jan 1st 1950 to Dec 29th 1959. Measurements are taken every 6 minutes."
   ]
  },
  {
   "cell_type": "code",
   "execution_count": null,
   "metadata": {
    "collapsed": false
   },
   "outputs": [],
   "source": [
    "prefix = 'http://tidesandcurrents.noaa.gov/api/datagetter?'\n",
    "\n",
    "times1950 = 'begin_date=19500101&end_date=19591229'\n",
    "\n",
    "parameters = '&station=9411340&product=predictions&units=english&time_zone=gmt&application=ports_screen&datum=MSL'\n",
    "\n",
    "jsonKey = '&format=json'\n",
    "\n",
    "f = urllib2.urlopen(prefix + times1950 + parameters + jsonKey)\n",
    "queryData1950 = f.read()"
   ]
  },
  {
   "cell_type": "markdown",
   "metadata": {},
   "source": [
    "Another query for the same station from Jan 1st 2000 to Dec 29th 2009."
   ]
  },
  {
   "cell_type": "code",
   "execution_count": null,
   "metadata": {
    "collapsed": true
   },
   "outputs": [],
   "source": [
    "times2000 = 'begin_date=20000101&end_date=20091229'\n",
    "\n",
    "f = urllib2.urlopen(prefix + times2000 + parameters + jsonKey)\n",
    "queryData2000 = f.read()"
   ]
  },
  {
   "cell_type": "code",
   "execution_count": null,
   "metadata": {
    "collapsed": true
   },
   "outputs": [],
   "source": [
    "jsonData1950 = json.loads(queryData1950)\n",
    "jsonData2000 = json.loads(queryData2000)"
   ]
  },
  {
   "cell_type": "code",
   "execution_count": null,
   "metadata": {
    "collapsed": false
   },
   "outputs": [],
   "source": [
    "jsonData1950.keys()"
   ]
  },
  {
   "cell_type": "code",
   "execution_count": null,
   "metadata": {
    "collapsed": false
   },
   "outputs": [],
   "source": [
    "myData1950 = []\n",
    "for i in jsonData1950[u'predictions']:\n",
    "    myData1950.append(float(i['v']))\n",
    "    \n",
    "myData2000 = []\n",
    "for i in jsonData2000[u'predictions']:\n",
    "    myData2000.append(float(i['v']))"
   ]
  },
  {
   "cell_type": "code",
   "execution_count": null,
   "metadata": {
    "collapsed": false
   },
   "outputs": [],
   "source": [
    "len(myData1950), len(myData2000)"
   ]
  },
  {
   "cell_type": "code",
   "execution_count": null,
   "metadata": {
    "collapsed": false
   },
   "outputs": [],
   "source": [
    "figure(figsize(15,5))\n",
    "plot(myData1950)"
   ]
  },
  {
   "cell_type": "markdown",
   "metadata": {},
   "source": [
    "Plot of Mean Sea Level from 1950-1959"
   ]
  },
  {
   "cell_type": "code",
   "execution_count": null,
   "metadata": {
    "collapsed": false
   },
   "outputs": [],
   "source": [
    "figure(figsize(15,5))\n",
    "plot(myData2000)"
   ]
  },
  {
   "cell_type": "markdown",
   "metadata": {},
   "source": [
    "Plot of Mean Sea Level from 2000-2009"
   ]
  },
  {
   "cell_type": "code",
   "execution_count": null,
   "metadata": {
    "collapsed": false
   },
   "outputs": [],
   "source": [
    "peak1950 = max(abs(min(myData1950)), max(myData1950))\n",
    "normData1950 = [x / peak1950 for x in myData1950]\n",
    "figure(figsize(15,5))\n",
    "plot(normData1950)"
   ]
  },
  {
   "cell_type": "markdown",
   "metadata": {},
   "source": [
    "##### Plot of normalized data from 1950-1959"
   ]
  },
  {
   "cell_type": "code",
   "execution_count": null,
   "metadata": {
    "collapsed": false
   },
   "outputs": [],
   "source": [
    "output1950 = normData1950\n",
    "Audio(output1950, rate = sr*1.0)"
   ]
  },
  {
   "cell_type": "markdown",
   "metadata": {},
   "source": [
    "audification of data 1950-1959 at 44100 values per second"
   ]
  },
  {
   "cell_type": "code",
   "execution_count": null,
   "metadata": {
    "collapsed": false
   },
   "outputs": [],
   "source": [
    "output1950 = normData1950\n",
    "Audio(output1950, rate = sr*0.5)"
   ]
  },
  {
   "cell_type": "markdown",
   "metadata": {},
   "source": [
    "audification of data 1950-1959 at 22050 values per second (half speed)"
   ]
  },
  {
   "cell_type": "code",
   "execution_count": null,
   "metadata": {
    "collapsed": false
   },
   "outputs": [],
   "source": [
    "peak2000 = max(abs(min(myData2000)), max(myData2000))\n",
    "normData2000 = [x / peak2000 for x in myData2000]\n",
    "figure(figsize(15,5))\n",
    "plot(normData2000)"
   ]
  },
  {
   "cell_type": "markdown",
   "metadata": {},
   "source": [
    "Plot of normalized data from 2000-2009"
   ]
  },
  {
   "cell_type": "code",
   "execution_count": null,
   "metadata": {
    "collapsed": false
   },
   "outputs": [],
   "source": [
    "output2000 = normData2000\n",
    "Audio(output2000, rate = sr*1.0)"
   ]
  },
  {
   "cell_type": "markdown",
   "metadata": {},
   "source": [
    "audification of data 2000-2009 at 44100 values per second"
   ]
  },
  {
   "cell_type": "code",
   "execution_count": null,
   "metadata": {
    "collapsed": false
   },
   "outputs": [],
   "source": [
    "output2000 = normData2000\n",
    "Audio(output2000, rate = sr*0.5)"
   ]
  },
  {
   "cell_type": "markdown",
   "metadata": {},
   "source": [
    "audification of data 2000-2009 at 22050 values per second (half speed)"
   ]
  },
  {
   "cell_type": "code",
   "execution_count": null,
   "metadata": {
    "collapsed": false
   },
   "outputs": [],
   "source": [
    "normData2000over1950 = [x / peak1950 for x in myData2000]\n",
    "clipped2000 = numpy.clip(normData2000over1950, -1.0, 1.0)\n",
    "figure(figsize(15,5))\n",
    "plot(clipped2000)"
   ]
  },
  {
   "cell_type": "markdown",
   "metadata": {},
   "source": [
    "Plot of data from 2000-2009, clipped at the minimum and maximum values from 1950-1959"
   ]
  },
  {
   "cell_type": "code",
   "execution_count": null,
   "metadata": {
    "collapsed": false
   },
   "outputs": [],
   "source": [
    "outputClipped2000 = clipped2000\n",
    "Audio(outputClipped2000, rate = sr*1.0)"
   ]
  },
  {
   "cell_type": "markdown",
   "metadata": {},
   "source": [
    "audification of clipped data 2000-2009 at 44100 values per second"
   ]
  },
  {
   "cell_type": "code",
   "execution_count": null,
   "metadata": {
    "collapsed": false
   },
   "outputs": [],
   "source": [
    "outputClipped2000 = clipped2000\n",
    "Audio(outputClipped2000, rate = sr*0.5)"
   ]
  },
  {
   "cell_type": "markdown",
   "metadata": {},
   "source": [
    "audification of clipped data 2000-2009 at 22050 values per second (half speed)"
   ]
  },
  {
   "cell_type": "markdown",
   "metadata": {},
   "source": [
    "# conclusions"
   ]
  },
  {
   "cell_type": "markdown",
   "metadata": {},
   "source": [
    "The data is clearly periodic and changes over time are quite subtle. Comparing the 1950 range with the 2000 range side by side shows little difference. Clipping the latter at the absolute maximum value of the 1950 range produces a soft digital clipping in some places [1], which can be easier heard at 44100 samples/second. The half speed audio examples do provide some insight into the monthly periodic tidal movements, which create repetitive pulsating patterns. "
   ]
  },
  {
   "cell_type": "markdown",
   "metadata": {},
   "source": [
    "[1]: you might not know it, but we are slowly drowning"
   ]
  }
 ],
 "metadata": {
  "kernelspec": {
   "display_name": "Python 2",
   "language": "python",
   "name": "python2"
  },
  "language_info": {
   "codemirror_mode": {
    "name": "ipython",
    "version": 2
   },
   "file_extension": ".py",
   "mimetype": "text/x-python",
   "name": "python",
   "nbconvert_exporter": "python",
   "pygments_lexer": "ipython2",
   "version": "2.7.12"
  }
 },
 "nbformat": 4,
 "nbformat_minor": 0
}
