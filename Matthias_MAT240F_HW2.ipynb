{
 "cells": [
  {
   "cell_type": "markdown",
   "metadata": {},
   "source": [
    "# Parameter mapping sonification of three different datasets"
   ]
  },
  {
   "cell_type": "markdown",
   "metadata": {},
   "source": [
    "For this project, I am using a Python wrapper for SuperCollider named SC (https://github.com/enrike/sc). The data used for the sonification is from the world bank api, and represents the military spending as a percentage of the GDP for China, the Russian Federation and the US for the years 1999 to 2014."
   ]
  },
  {
   "cell_type": "code",
   "execution_count": 1,
   "metadata": {
    "collapsed": false
   },
   "outputs": [
    {
     "name": "stdout",
     "output_type": "stream",
     "text": [
      "Populating the interactive namespace from numpy and matplotlib\n"
     ]
    }
   ],
   "source": [
    "%pylab inline\n",
    "from IPython.display import HTML # for code hiding and soundcloud embedding\n",
    "from __future__ import print_function\n",
    "import urllib2\n",
    "import json\n",
    "import sc # wrapper for SuperCollider\n",
    "import time # for scheduling"
   ]
  },
  {
   "cell_type": "code",
   "execution_count": 2,
   "metadata": {
    "collapsed": false
   },
   "outputs": [
    {
     "data": {
      "text/html": [
       "<script>\n",
       "code_show=false; \n",
       "function code_toggle() {\n",
       " if (code_show){\n",
       " $('div.input').hide();\n",
       " } else {\n",
       " $('div.input').show();\n",
       " }\n",
       " code_show = !code_show\n",
       "} \n",
       "$( document ).ready(code_toggle);\n",
       "</script>\n",
       "The raw code for this IPython notebook is by default hidden for easier reading.\n",
       "To toggle on/off the raw code, click <a href=\"javascript:code_toggle()\">here</a>."
      ],
      "text/plain": [
       "<IPython.core.display.HTML object>"
      ]
     },
     "execution_count": 2,
     "metadata": {},
     "output_type": "execute_result"
    }
   ],
   "source": [
    "HTML('''<script>\n",
    "code_show=false; \n",
    "function code_toggle() {\n",
    " if (code_show){\n",
    " $('div.input').hide();\n",
    " } else {\n",
    " $('div.input').show();\n",
    " }\n",
    " code_show = !code_show\n",
    "} \n",
    "$( document ).ready(code_toggle);\n",
    "</script>\n",
    "The raw code for this IPython notebook is by default hidden for easier reading.\n",
    "To toggle on/off the raw code, click <a href=\"javascript:code_toggle()\">here</a>.''')"
   ]
  },
  {
   "cell_type": "markdown",
   "metadata": {},
   "source": [
    "## Data query from World Bank api "
   ]
  },
  {
   "cell_type": "markdown",
   "metadata": {},
   "source": [
    "According to the slightly questionable http://www.globalfirepower.com/countries-listing.asp, the US, Russia and China are the most powerful nations in terms of military power. How does their military spending as a percentage of their GDP compare?"
   ]
  },
  {
   "cell_type": "code",
   "execution_count": 3,
   "metadata": {
    "collapsed": false
   },
   "outputs": [],
   "source": [
    "prefix = 'http://api.worldbank.org'\n",
    "\n",
    "countries = '/countries/cn;ru;us'\n",
    "\n",
    "times = '?date=1999:2014'\n",
    "\n",
    "parameters = '/indicators/MS.MIL.XPND.GD.ZS'\n",
    "\n",
    "limit = '?per_page=48'\n",
    "\n",
    "jsonKey = '&format=json'\n",
    "\n",
    "f = urllib2.urlopen(prefix + countries + parameters + times + jsonKey)\n",
    "queryData = f.read()\n",
    "jsonData = json.loads(queryData)"
   ]
  },
  {
   "cell_type": "markdown",
   "metadata": {
    "collapsed": false
   },
   "source": [
    "copy query data into lists"
   ]
  },
  {
   "cell_type": "code",
   "execution_count": 4,
   "metadata": {
    "collapsed": false
   },
   "outputs": [],
   "source": [
    "cnData = []\n",
    "ruData = []\n",
    "usData = []\n",
    "for i in jsonData[1]:\n",
    "    valueString = str(i['value'])\n",
    "    if valueString == 'None':\n",
    "        thisValue = 0\n",
    "    else:\n",
    "        thisValue = float(str(i['value']))\n",
    "    if i['country']['value'] == 'China':\n",
    "        cnData.append(thisValue)\n",
    "    elif i['country']['value'] == 'Russian Federation':\n",
    "        ruData.append(thisValue)\n",
    "    elif i['country']['value'] == 'United States':\n",
    "        usData.append(thisValue)"
   ]
  },
  {
   "cell_type": "code",
   "execution_count": 5,
   "metadata": {
    "collapsed": false
   },
   "outputs": [
    {
     "data": {
      "image/png": "[encoded data removed]",
      "text/plain": [
       "<matplotlib.figure.Figure at 0x11337cf10>"
      ]
     },
     "metadata": {},
     "output_type": "display_data"
    }
   ],
   "source": [
    "figure(figsize(10,5))\n",
    "plot(cnData, label='China')\n",
    "plot(ruData, label='Russia')\n",
    "plot(usData, label='US')\n",
    "legend(loc='upper right')\n",
    "x = xticks(arange(16), arange(1999,2015))"
   ]
  },
  {
   "cell_type": "markdown",
   "metadata": {},
   "source": [
    "determine min and max values, and map frequency and amplitude values accordingly"
   ]
  },
  {
   "cell_type": "code",
   "execution_count": 6,
   "metadata": {
    "collapsed": false
   },
   "outputs": [],
   "source": [
    "maxVal = max( max(usData), max(ruData), max(cnData))\n",
    "minVal = min( min(usData), min(ruData), min(cnData))"
   ]
  },
  {
   "cell_type": "code",
   "execution_count": 7,
   "metadata": {
    "collapsed": false
   },
   "outputs": [],
   "source": [
    "minFreq = 200\n",
    "maxFreq = 2000\n",
    "\n",
    "cnFreqs = []\n",
    "ruFreqs = []\n",
    "usFreqs = []\n",
    "\n",
    "cnAmps = []\n",
    "ruAmps = []\n",
    "usAmps = []\n",
    "\n",
    "for i in cnData:\n",
    "    cnFreqs.append(((i - minVal) / (maxVal - minVal)) * (maxFreq - minFreq) + minFreq)\n",
    "    cnAmps.append(i/maxVal)\n",
    "for i in ruData:\n",
    "    ruFreqs.append(((i - minVal) / (maxVal - minVal)) * (maxFreq - minFreq) + minFreq)\n",
    "    ruAmps.append(i/maxVal)\n",
    "for i in usData:\n",
    "    usFreqs.append(((i - minVal) / (maxVal - minVal)) * (maxFreq - minFreq) + minFreq)\n",
    "    usAmps.append(i/maxVal)"
   ]
  },
  {
   "cell_type": "markdown",
   "metadata": {},
   "source": [
    "## The SuperCollider wrapper"
   ]
  },
  {
   "cell_type": "markdown",
   "metadata": {},
   "source": [
    "The wrapper only addresses scsynth, and not sclang. scsynth is usually located inside the SuperCollider application package. The wrapper can then access SynthDefs that are stored as .scsyndef files in a folder named 'synthdefs' that is located in the same directory as the pyhton file.\n",
    "The SynthDef used for this project is named 'HW2' and looks like this:"
   ]
  },
  {
   "cell_type": "markdown",
   "metadata": {},
   "source": [
    "##### (\n",
    "##### SynthDef(\\HW2, {\n",
    "#####   | amp = 0.5, freq = 220, pan = 0 |\n",
    "#####   var sig = SinOsc.ar(freq, 0, amp);\n",
    "#####   Out.ar(0, Pan2.ar(sig, pan, 1.0));\n",
    "##### }).store\n",
    "##### )"
   ]
  },
  {
   "cell_type": "markdown",
   "metadata": {},
   "source": [
    "Set the location of scsynth and start the server. "
   ]
  },
  {
   "cell_type": "code",
   "execution_count": 8,
   "metadata": {
    "collapsed": false
   },
   "outputs": [],
   "source": [
    "# #SC Code:\n",
    "\n",
    "# scDir = '/Applications/SuperCollider/SuperCollider.app/Contents/Resources/'\n",
    "# sc.start( exedir=scDir, verbose=0, spew=0, startscsynth=1, port=57110 )"
   ]
  },
  {
   "cell_type": "markdown",
   "metadata": {},
   "source": [
    "##### Create 3 instances of the HW2 synth, one for each country. In this first example, only the frequency of the sine oscillator is affected by the data. In the stereo image, China is on the left, Russia in the center and the US on the right. Each sound file loops through the data set for about 20 seconds at 4, 10 and 20 notes per second."
   ]
  },
  {
   "cell_type": "code",
   "execution_count": 9,
   "metadata": {
    "collapsed": false
   },
   "outputs": [],
   "source": [
    "# # SC Code:\n",
    "\n",
    "# dur = 20\n",
    "# timeout = time.time() + dur\n",
    "# dataRate = [4.0, 10.0, 20.0]\n",
    "\n",
    "# sCn = sc.Synth( \"HW2\" )\n",
    "# sRu = sc.Synth( \"HW2\" )\n",
    "# sUs = sc.Synth( \"HW2\" )\n",
    "\n",
    "# ampScaler = 0.75\n",
    "# x = 0\n",
    "# while time.time() < timeout:\n",
    "#     time.sleep(1.0/20)\n",
    "#     sCn.freq = cnFreqs[x]\n",
    "#     sCn.amp = ampScaler\n",
    "#     sCn.pan = -1\n",
    "#     sRu.freq = ruFreqs[x]\n",
    "#     sRu.amp = ampScaler\n",
    "#     sRu.pan = 0\n",
    "#     sUs.freq = usFreqs[x]\n",
    "#     sUs.amp = ampScaler\n",
    "#     sUs.pan = 1\n",
    "#     x += 1\n",
    "#     if x >= len(cnFreqs):\n",
    "#         x -= len(cnFreqs)\n",
    "    \n",
    "# sCn.free()\n",
    "# sRu.free()\n",
    "# sUs.free()"
   ]
  },
  {
   "cell_type": "code",
   "execution_count": 10,
   "metadata": {
    "collapsed": false
   },
   "outputs": [
    {
     "data": {
      "text/html": [
       "<iframe width=\"30%\" height=\"100\" scrolling=\"no\" frameborder=\"no\" src=\"https://w.soundcloud.com/player/?url=https%3A//api.soundcloud.com/tracks/259964754&amp;auto_play=false&amp;hide_related=true&amp;show_comments=false&amp;show_userfalse&amp;show_reposts=false&amp;visual=true\"></iframe>"
      ],
      "text/plain": [
       "<IPython.core.display.HTML object>"
      ]
     },
     "metadata": {},
     "output_type": "display_data"
    }
   ],
   "source": [
    "h5 = HTML(\"\"\"<iframe width=\"30%\" height=\"100\" scrolling=\"no\" frameborder=\"no\" src=\"https://w.soundcloud.com/player/?url=https%3A//api.soundcloud.com/tracks/259964754&amp;auto_play=false&amp;hide_related=true&amp;show_comments=false&amp;show_userfalse&amp;show_reposts=false&amp;visual=true\"></iframe>\"\"\")\n",
    "display(h5)"
   ]
  },
  {
   "cell_type": "code",
   "execution_count": 11,
   "metadata": {
    "collapsed": false
   },
   "outputs": [
    {
     "data": {
      "text/html": [
       "<iframe width=\"30%\" height=\"100\" scrolling=\"no\" frameborder=\"no\" src=\"https://w.soundcloud.com/player/?url=https%3A//api.soundcloud.com/tracks/259965054&amp;auto_play=false&amp;hide_related=true&amp;show_comments=false&amp;show_userfalse&amp;show_reposts=false&amp;visual=true\"></iframe>"
      ],
      "text/plain": [
       "<IPython.core.display.HTML object>"
      ]
     },
     "metadata": {},
     "output_type": "display_data"
    }
   ],
   "source": [
    "h5 = HTML(\"\"\"<iframe width=\"30%\" height=\"100\" scrolling=\"no\" frameborder=\"no\" src=\"https://w.soundcloud.com/player/?url=https%3A//api.soundcloud.com/tracks/259965054&amp;auto_play=false&amp;hide_related=true&amp;show_comments=false&amp;show_userfalse&amp;show_reposts=false&amp;visual=true\"></iframe>\"\"\")\n",
    "display(h5)"
   ]
  },
  {
   "cell_type": "code",
   "execution_count": 12,
   "metadata": {
    "collapsed": false
   },
   "outputs": [
    {
     "data": {
      "text/html": [
       "<iframe width=\"30%\" height=\"100\" scrolling=\"no\" frameborder=\"no\" src=\"https://w.soundcloud.com/player/?url=https%3A//api.soundcloud.com/tracks/259965114&amp;auto_play=false&amp;hide_related=true&amp;show_comments=false&amp;show_userfalse&amp;show_reposts=false&amp;visual=true\"></iframe>"
      ],
      "text/plain": [
       "<IPython.core.display.HTML object>"
      ]
     },
     "metadata": {},
     "output_type": "display_data"
    }
   ],
   "source": [
    "h5 = HTML(\"\"\"<iframe width=\"30%\" height=\"100\" scrolling=\"no\" frameborder=\"no\" src=\"https://w.soundcloud.com/player/?url=https%3A//api.soundcloud.com/tracks/259965114&amp;auto_play=false&amp;hide_related=true&amp;show_comments=false&amp;show_userfalse&amp;show_reposts=false&amp;visual=true\"></iframe>\"\"\")\n",
    "display(h5)"
   ]
  },
  {
   "cell_type": "markdown",
   "metadata": {},
   "source": [
    "##### Map data to frequency, as well as amplitude. Panning is the same as in the previous example."
   ]
  },
  {
   "cell_type": "code",
   "execution_count": 13,
   "metadata": {
    "collapsed": false
   },
   "outputs": [],
   "source": [
    "# # SC code:\n",
    "\n",
    "# sCn = sc.Synth( \"HW2\" )\n",
    "# sRu = sc.Synth( \"HW2\" )\n",
    "# sUs = sc.Synth( \"HW2\" )\n",
    "\n",
    "# ampScaler = 0.75\n",
    "# x = 0\n",
    "# while time.time() < timeout:\n",
    "#     time.sleep(1.0/20)\n",
    "#     sCn.freq = cnFreqs[x]\n",
    "#     sCn.amp = cnAmps[x]\n",
    "#     sCn.pan = -1\n",
    "#     sRu.freq = ruFreqs[x]\n",
    "#     sRu.amp = ruAmps[x]\n",
    "#     sRu.pan = 0\n",
    "#     sUs.freq = usFreqs[x]\n",
    "#     sUs.amp = usAmps[x]\n",
    "#     sUs.pan = 1\n",
    "#     x += 1\n",
    "#     if x >= len(cnFreqs):\n",
    "#         x -= len(cnFreqs)\n",
    "    \n",
    "# sCn.free()\n",
    "# sRu.free()\n",
    "# sUs.free()"
   ]
  },
  {
   "cell_type": "code",
   "execution_count": 14,
   "metadata": {
    "collapsed": false
   },
   "outputs": [
    {
     "data": {
      "text/html": [
       "<iframe width=\"30%\" height=\"100\" scrolling=\"no\" frameborder=\"no\" src=\"https://w.soundcloud.com/player/?url=https%3A//api.soundcloud.com/tracks/259965154&amp;auto_play=false&amp;hide_related=true&amp;show_comments=false&amp;show_userfalse&amp;show_reposts=false&amp;visual=true\"></iframe>"
      ],
      "text/plain": [
       "<IPython.core.display.HTML object>"
      ]
     },
     "metadata": {},
     "output_type": "display_data"
    }
   ],
   "source": [
    "h5 = HTML(\"\"\"<iframe width=\"30%\" height=\"100\" scrolling=\"no\" frameborder=\"no\" src=\"https://w.soundcloud.com/player/?url=https%3A//api.soundcloud.com/tracks/259965154&amp;auto_play=false&amp;hide_related=true&amp;show_comments=false&amp;show_userfalse&amp;show_reposts=false&amp;visual=true\"></iframe>\"\"\")\n",
    "display(h5)"
   ]
  },
  {
   "cell_type": "code",
   "execution_count": 15,
   "metadata": {
    "collapsed": false
   },
   "outputs": [
    {
     "data": {
      "text/html": [
       "<iframe width=\"30%\" height=\"100\" scrolling=\"no\" frameborder=\"no\" src=\"https://w.soundcloud.com/player/?url=https%3A//api.soundcloud.com/tracks/259965225&amp;auto_play=false&amp;hide_related=true&amp;show_comments=false&amp;show_userfalse&amp;show_reposts=false&amp;visual=true\"></iframe>"
      ],
      "text/plain": [
       "<IPython.core.display.HTML object>"
      ]
     },
     "metadata": {},
     "output_type": "display_data"
    }
   ],
   "source": [
    "h5 = HTML(\"\"\"<iframe width=\"30%\" height=\"100\" scrolling=\"no\" frameborder=\"no\" src=\"https://w.soundcloud.com/player/?url=https%3A//api.soundcloud.com/tracks/259965225&amp;auto_play=false&amp;hide_related=true&amp;show_comments=false&amp;show_userfalse&amp;show_reposts=false&amp;visual=true\"></iframe>\"\"\")\n",
    "display(h5)"
   ]
  },
  {
   "cell_type": "code",
   "execution_count": 16,
   "metadata": {
    "collapsed": false
   },
   "outputs": [
    {
     "data": {
      "text/html": [
       "<iframe width=\"30%\" height=\"100\" scrolling=\"no\" frameborder=\"no\" src=\"https://w.soundcloud.com/player/?url=https%3A//api.soundcloud.com/tracks/259965188&amp;auto_play=false&amp;hide_related=true&amp;show_comments=false&amp;show_userfalse&amp;show_reposts=false&amp;visual=true\"></iframe>"
      ],
      "text/plain": [
       "<IPython.core.display.HTML object>"
      ]
     },
     "metadata": {},
     "output_type": "display_data"
    }
   ],
   "source": [
    "h5 = HTML(\"\"\"<iframe width=\"30%\" height=\"100\" scrolling=\"no\" frameborder=\"no\" src=\"https://w.soundcloud.com/player/?url=https%3A//api.soundcloud.com/tracks/259965188&amp;auto_play=false&amp;hide_related=true&amp;show_comments=false&amp;show_userfalse&amp;show_reposts=false&amp;visual=true\"></iframe>\"\"\")\n",
    "display(h5)"
   ]
  },
  {
   "cell_type": "markdown",
   "metadata": {},
   "source": [
    "##### Map data to amplitude and panning (low values left, high values right). The frequency for each country stays the same (China: 670Hz, Russia: 432Hz, US: 1200 Hz)"
   ]
  },
  {
   "cell_type": "code",
   "execution_count": 17,
   "metadata": {
    "collapsed": false
   },
   "outputs": [],
   "source": [
    "# #SC code:\n",
    "\n",
    "# sCn = sc.Synth( \"HW2\" )\n",
    "# sRu = sc.Synth( \"HW2\" )\n",
    "# sUs = sc.Synth( \"HW2\" )\n",
    "\n",
    "# x = 0\n",
    "# while time.time() < timeout:\n",
    "#     time.sleep(1.0/10)\n",
    "#     sCn.freq = 670\n",
    "#     sCn.amp = cnAmps[x]\n",
    "#     sCn.pan = (cnAmps[x]*2) - 1\n",
    "#     sRu.freq = 432\n",
    "#     sRu.amp = ruAmps[x]\n",
    "#     sRu.pan = (ruAmps[x]*2) - 1\n",
    "#     sUs.freq = 1200\n",
    "#     sUs.amp = usAmps[x]\n",
    "#     sUs.pan = (usAmps[x]*2) - 1\n",
    "#     x += 1\n",
    "#     if x >= len(cnFreqs):\n",
    "#         x -= len(cnFreqs)\n",
    "    \n",
    "# sCn.free()\n",
    "# sRu.free()\n",
    "# sUs.free()"
   ]
  },
  {
   "cell_type": "code",
   "execution_count": 18,
   "metadata": {
    "collapsed": false
   },
   "outputs": [
    {
     "data": {
      "text/html": [
       "<iframe width=\"30%\" height=\"100\" scrolling=\"no\" frameborder=\"no\" src=\"https://w.soundcloud.com/player/?url=https%3A//api.soundcloud.com/tracks/259965386&amp;auto_play=false&amp;hide_related=true&amp;show_comments=false&amp;show_userfalse&amp;show_reposts=false&amp;visual=true\"></iframe>"
      ],
      "text/plain": [
       "<IPython.core.display.HTML object>"
      ]
     },
     "metadata": {},
     "output_type": "display_data"
    }
   ],
   "source": [
    "h5 = HTML(\"\"\"<iframe width=\"30%\" height=\"100\" scrolling=\"no\" frameborder=\"no\" src=\"https://w.soundcloud.com/player/?url=https%3A//api.soundcloud.com/tracks/259965386&amp;auto_play=false&amp;hide_related=true&amp;show_comments=false&amp;show_userfalse&amp;show_reposts=false&amp;visual=true\"></iframe>\"\"\")\n",
    "display(h5)"
   ]
  },
  {
   "cell_type": "code",
   "execution_count": 19,
   "metadata": {
    "collapsed": false
   },
   "outputs": [
    {
     "data": {
      "text/html": [
       "<iframe width=\"30%\" height=\"100\" scrolling=\"no\" frameborder=\"no\" src=\"https://w.soundcloud.com/player/?url=https%3A//api.soundcloud.com/tracks/259965556&amp;auto_play=false&amp;hide_related=true&amp;show_comments=false&amp;show_userfalse&amp;show_reposts=false&amp;visual=true\"></iframe>"
      ],
      "text/plain": [
       "<IPython.core.display.HTML object>"
      ]
     },
     "metadata": {},
     "output_type": "display_data"
    }
   ],
   "source": [
    "h5 = HTML(\"\"\"<iframe width=\"30%\" height=\"100\" scrolling=\"no\" frameborder=\"no\" src=\"https://w.soundcloud.com/player/?url=https%3A//api.soundcloud.com/tracks/259965556&amp;auto_play=false&amp;hide_related=true&amp;show_comments=false&amp;show_userfalse&amp;show_reposts=false&amp;visual=true\"></iframe>\"\"\")\n",
    "display(h5)"
   ]
  },
  {
   "cell_type": "code",
   "execution_count": 20,
   "metadata": {
    "collapsed": false
   },
   "outputs": [
    {
     "data": {
      "text/html": [
       "<iframe width=\"30%\" height=\"100\" scrolling=\"no\" frameborder=\"no\" src=\"https://w.soundcloud.com/player/?url=https%3A//api.soundcloud.com/tracks/259965584&amp;auto_play=false&amp;hide_related=true&amp;show_comments=false&amp;show_userfalse&amp;show_reposts=false&amp;visual=true\"></iframe>"
      ],
      "text/plain": [
       "<IPython.core.display.HTML object>"
      ]
     },
     "metadata": {},
     "output_type": "display_data"
    }
   ],
   "source": [
    "h5 = HTML(\"\"\"<iframe width=\"30%\" height=\"100\" scrolling=\"no\" frameborder=\"no\" src=\"https://w.soundcloud.com/player/?url=https%3A//api.soundcloud.com/tracks/259965584&amp;auto_play=false&amp;hide_related=true&amp;show_comments=false&amp;show_userfalse&amp;show_reposts=false&amp;visual=true\"></iframe>\"\"\")\n",
    "display(h5)"
   ]
  },
  {
   "cell_type": "markdown",
   "metadata": {},
   "source": [
    "##### Map data to frequency, amplitude and panning."
   ]
  },
  {
   "cell_type": "code",
   "execution_count": 21,
   "metadata": {
    "collapsed": false
   },
   "outputs": [],
   "source": [
    "# # SC code:\n",
    "\n",
    "# sCn = sc.Synth( \"HW2\" )\n",
    "# sRu = sc.Synth( \"HW2\" )\n",
    "# sUs = sc.Synth( \"HW2\" )\n",
    "\n",
    "# x = 0\n",
    "# while time.time() < timeout:\n",
    "#     time.sleep(1.0/20)\n",
    "#     sCn.freq = cnFreqs[x]\n",
    "#     sCn.amp = cnAmps[x]\n",
    "#     sCn.pan = (cnAmps[x]*2) - 1\n",
    "#     sRu.freq = ruFreqs[x]\n",
    "#     sRu.amp = ruAmps[x]\n",
    "#     sRu.pan = (ruAmps[x]*2) - 1\n",
    "#     sUs.freq = usFreqs[x]\n",
    "#     sUs.amp = usAmps[x]\n",
    "#     sUs.pan = (usAmps[x]*2) - 1\n",
    "#     x += 1\n",
    "#     if x >= len(cnFreqs):\n",
    "#         x -= len(cnFreqs)\n",
    "    \n",
    "# sCn.free()\n",
    "# sRu.free()\n",
    "# sUs.free()"
   ]
  },
  {
   "cell_type": "code",
   "execution_count": 22,
   "metadata": {
    "collapsed": false
   },
   "outputs": [
    {
     "data": {
      "text/html": [
       "<iframe width=\"30%\" height=\"100\" scrolling=\"no\" frameborder=\"no\" src=\"https://w.soundcloud.com/player/?url=https%3A//api.soundcloud.com/tracks/259965294&amp;auto_play=false&amp;hide_related=true&amp;show_comments=false&amp;show_userfalse&amp;show_reposts=false&amp;visual=true\"></iframe>"
      ],
      "text/plain": [
       "<IPython.core.display.HTML object>"
      ]
     },
     "metadata": {},
     "output_type": "display_data"
    }
   ],
   "source": [
    "h5 = HTML(\"\"\"<iframe width=\"30%\" height=\"100\" scrolling=\"no\" frameborder=\"no\" src=\"https://w.soundcloud.com/player/?url=https%3A//api.soundcloud.com/tracks/259965294&amp;auto_play=false&amp;hide_related=true&amp;show_comments=false&amp;show_userfalse&amp;show_reposts=false&amp;visual=true\"></iframe>\"\"\")\n",
    "display(h5)"
   ]
  },
  {
   "cell_type": "code",
   "execution_count": 23,
   "metadata": {
    "collapsed": false
   },
   "outputs": [
    {
     "data": {
      "text/html": [
       "<iframe width=\"30%\" height=\"100\" scrolling=\"no\" frameborder=\"no\" src=\"https://w.soundcloud.com/player/?url=https%3A//api.soundcloud.com/tracks/259965317&amp;auto_play=false&amp;hide_related=true&amp;show_comments=false&amp;show_userfalse&amp;show_reposts=false&amp;visual=true\"></iframe>"
      ],
      "text/plain": [
       "<IPython.core.display.HTML object>"
      ]
     },
     "metadata": {},
     "output_type": "display_data"
    }
   ],
   "source": [
    "h5 = HTML(\"\"\"<iframe width=\"30%\" height=\"100\" scrolling=\"no\" frameborder=\"no\" src=\"https://w.soundcloud.com/player/?url=https%3A//api.soundcloud.com/tracks/259965317&amp;auto_play=false&amp;hide_related=true&amp;show_comments=false&amp;show_userfalse&amp;show_reposts=false&amp;visual=true\"></iframe>\"\"\")\n",
    "display(h5)"
   ]
  },
  {
   "cell_type": "code",
   "execution_count": 24,
   "metadata": {
    "collapsed": false
   },
   "outputs": [
    {
     "data": {
      "text/html": [
       "<iframe width=\"30%\" height=\"100\" scrolling=\"no\" frameborder=\"no\" src=\"https://w.soundcloud.com/player/?url=https%3A//api.soundcloud.com/tracks/259965359&amp;auto_play=false&amp;hide_related=true&amp;show_comments=false&amp;show_userfalse&amp;show_reposts=false&amp;visual=true\"></iframe>"
      ],
      "text/plain": [
       "<IPython.core.display.HTML object>"
      ]
     },
     "metadata": {},
     "output_type": "display_data"
    }
   ],
   "source": [
    "h5 = HTML(\"\"\"<iframe width=\"30%\" height=\"100\" scrolling=\"no\" frameborder=\"no\" src=\"https://w.soundcloud.com/player/?url=https%3A//api.soundcloud.com/tracks/259965359&amp;auto_play=false&amp;hide_related=true&amp;show_comments=false&amp;show_userfalse&amp;show_reposts=false&amp;visual=true\"></iframe>\"\"\")\n",
    "display(h5)"
   ]
  },
  {
   "cell_type": "code",
   "execution_count": 25,
   "metadata": {
    "collapsed": true
   },
   "outputs": [],
   "source": [
    "# sc.quit() # quit SuperCollider server"
   ]
  },
  {
   "cell_type": "markdown",
   "metadata": {},
   "source": [
    "## Observations:"
   ]
  },
  {
   "cell_type": "markdown",
   "metadata": {},
   "source": [
    "The mapping of the data to frequency yields the most convincing and detailed representation of the data. That being said, at different speeds panning and amplitude are able to convey some important characteristics. In order for the data to be mapped to spatial parameters, the frequency has to remain constant for each data set (as in the panning and amplitude examples). When all 3 parameters take in the data, the distinction between the data sets becomes very diffcult."
   ]
  },
  {
   "cell_type": "markdown",
   "metadata": {},
   "source": [
    "### Notes:"
   ]
  },
  {
   "cell_type": "markdown",
   "metadata": {},
   "source": [
    "The recordings have been made through running the audio output of the browser into a DAW via SoundFlower."
   ]
  },
  {
   "cell_type": "code",
   "execution_count": null,
   "metadata": {
    "collapsed": true
   },
   "outputs": [],
   "source": []
  }
 ],
 "metadata": {
  "kernelspec": {
   "display_name": "Python 2",
   "language": "python",
   "name": "python2"
  },
  "language_info": {
   "codemirror_mode": {
    "name": "ipython",
    "version": 2
   },
   "file_extension": ".py",
   "mimetype": "text/x-python",
   "name": "python",
   "nbconvert_exporter": "python",
   "pygments_lexer": "ipython2",
   "version": "2.7.10"
  }
 },
 "nbformat": 4,
 "nbformat_minor": 0
}
