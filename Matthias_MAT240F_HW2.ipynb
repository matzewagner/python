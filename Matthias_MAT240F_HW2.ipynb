{
 "cells": [
  {
   "cell_type": "code",
   "execution_count": 1,
   "metadata": {
    "collapsed": false
   },
   "outputs": [
    {
     "name": "stdout",
     "output_type": "stream",
     "text": [
      "Populating the interactive namespace from numpy and matplotlib\n"
     ]
    }
   ],
   "source": [
    "%pylab inline\n",
    "import sc\n",
    "import time, random"
   ]
  },
  {
   "cell_type": "code",
   "execution_count": 116,
   "metadata": {
    "collapsed": false
   },
   "outputs": [
    {
     "name": "stdout",
     "output_type": "stream",
     "text": [
      "trying to run scsynth from /Applications/SuperCollider/SuperCollider.app/Contents/Resources/\n",
      "process.py start_local verbose is 1\n",
      "\n",
      "... ... Starting Supercollider Server ... ...\n",
      "\n",
      "/Applications/SuperCollider/SuperCollider.app/Contents/Resources/scsynth -u 57110 -i 2 -o 2\n",
      "['/done', '/notify']\n"
     ]
    }
   ],
   "source": [
    "scDir = '/Applications/SuperCollider/SuperCollider.app/Contents/Resources/'\n",
    "sc.start( exedir=scDir, verbose=1, spew=0, startscsynth=1, port=57110 )"
   ]
  },
  {
   "cell_type": "code",
   "execution_count": 123,
   "metadata": {
    "collapsed": false
   },
   "outputs": [
    {
     "name": "stdout",
     "output_type": "stream",
     "text": [
      "['/n_end', 1006, 0, -1, -1, 0]\n",
      "1007 < created node id\n",
      "['/fail', '/n_set', 'Node 1007 not found']\n",
      "['/fail', '/n_set', 'Node 1007 not found']\n",
      "['/d_removed', 'MAT240F']\n",
      "['/done', '/d_load']\n",
      "['/n_go', 1007, 0, -1, -1, 0]\n",
      "['/fail', '/n_set', 'Node 1007 not found']\n"
     ]
    }
   ],
   "source": [
    "seed = random.Random()\n",
    "sr = 44100\n",
    "dur = 10\n",
    "myCarFreqs = [seed.randint(5,1000) for x in range(dur*sr)]\n",
    "myModFreqs = [seed.randint(0,100) for x in range(dur*sr)]\n",
    "myModDepths = [seed.randint(0,10) for x in range(dur*sr)]\n",
    "timeout = time.time() + dur\n",
    "\n",
    "# while time.time() < timeout :\n",
    "#     time.sleep(1.0/sr)\n",
    "#     s.amp = 0.75\n",
    "#     s.carFreq = seed.randint(500, 1000) \n",
    "#     s.modFreq = 0.1\n",
    "#     s.modeDepth = 1.0\n",
    "#     s.aModFreq = 0\n",
    "\n",
    "s = sc.Synth( \"MAT240F\" )\n",
    "x = 0\n",
    "while time.time() < timeout:\n",
    "    time.sleep(1.0/10)\n",
    "    s.carFreq = myCarFreqs[x]\n",
    "    s.modFreq = myModFreqs[x]\n",
    "    s.modDepth = myModDepths[x]\n",
    "    s.amp = seed.random()\n",
    "    s.aModFreq = seed.randint(1, 60)\n",
    "    x += 1\n",
    "    \n",
    "s.free()"
   ]
  },
  {
   "cell_type": "code",
   "execution_count": null,
   "metadata": {
    "collapsed": false
   },
   "outputs": [],
   "source": [
    "myValues"
   ]
  },
  {
   "cell_type": "code",
   "execution_count": 51,
   "metadata": {
    "collapsed": false
   },
   "outputs": [],
   "source": [
    "s.free()"
   ]
  },
  {
   "cell_type": "code",
   "execution_count": 115,
   "metadata": {
    "collapsed": false
   },
   "outputs": [],
   "source": [
    "sc.quit()"
   ]
  },
  {
   "cell_type": "code",
   "execution_count": null,
   "metadata": {
    "collapsed": true
   },
   "outputs": [],
   "source": []
  }
 ],
 "metadata": {
  "kernelspec": {
   "display_name": "Python 2",
   "language": "python",
   "name": "python2"
  },
  "language_info": {
   "codemirror_mode": {
    "name": "ipython",
    "version": 2
   },
   "file_extension": ".py",
   "mimetype": "text/x-python",
   "name": "python",
   "nbconvert_exporter": "python",
   "pygments_lexer": "ipython2",
   "version": "2.7.10"
  }
 },
 "nbformat": 4,
 "nbformat_minor": 0
}
