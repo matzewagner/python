{
 "cells": [
  {
   "cell_type": "code",
   "execution_count": 1,
   "metadata": {
    "collapsed": false
   },
   "outputs": [
    {
     "name": "stdout",
     "output_type": "stream",
     "text": [
      "Populating the interactive namespace from numpy and matplotlib\n"
     ]
    }
   ],
   "source": [
    "%pylab inline\n",
    "from IPython.display import HTML\n",
    "from __future__ import print_function\n",
    "from decimal import Decimal\n",
    "import urllib2\n",
    "import json\n",
    "import sc\n",
    "import time, random"
   ]
  },
  {
   "cell_type": "code",
   "execution_count": 2,
   "metadata": {
    "collapsed": false
   },
   "outputs": [
    {
     "data": {
      "text/html": [
       "<script>\n",
       "code_show=false; \n",
       "function code_toggle() {\n",
       " if (code_show){\n",
       " $('div.input').hide();\n",
       " } else {\n",
       " $('div.input').show();\n",
       " }\n",
       " code_show = !code_show\n",
       "} \n",
       "$( document ).ready(code_toggle);\n",
       "</script>\n",
       "The raw code for this IPython notebook is by default hidden for easier reading.\n",
       "To toggle on/off the raw code, click <a href=\"javascript:code_toggle()\">here</a>."
      ],
      "text/plain": [
       "<IPython.core.display.HTML object>"
      ]
     },
     "execution_count": 2,
     "metadata": {},
     "output_type": "execute_result"
    }
   ],
   "source": [
    "HTML('''<script>\n",
    "code_show=false; \n",
    "function code_toggle() {\n",
    " if (code_show){\n",
    " $('div.input').hide();\n",
    " } else {\n",
    " $('div.input').show();\n",
    " }\n",
    " code_show = !code_show\n",
    "} \n",
    "$( document ).ready(code_toggle);\n",
    "</script>\n",
    "The raw code for this IPython notebook is by default hidden for easier reading.\n",
    "To toggle on/off the raw code, click <a href=\"javascript:code_toggle()\">here</a>.''')"
   ]
  },
  {
   "cell_type": "code",
   "execution_count": 3,
   "metadata": {
    "collapsed": false
   },
   "outputs": [],
   "source": [
    "prefix = 'http://api.worldbank.org'\n",
    "\n",
    "countries = '/countries/cn;ru;us'\n",
    "\n",
    "times = '?date=1999:2014'\n",
    "\n",
    "parameters = '/indicators/MS.MIL.XPND.GD.ZS'\n",
    "\n",
    "limit = '?per_page=48'\n",
    "\n",
    "jsonKey = '&format=json'\n",
    "\n",
    "f = urllib2.urlopen(prefix + countries + parameters + times + jsonKey)\n",
    "queryData = f.read()"
   ]
  },
  {
   "cell_type": "code",
   "execution_count": 74,
   "metadata": {
    "collapsed": false
   },
   "outputs": [],
   "source": [
    "jsonData = json.loads(queryData)"
   ]
  },
  {
   "cell_type": "code",
   "execution_count": 75,
   "metadata": {
    "collapsed": false
   },
   "outputs": [],
   "source": [
    "cnData = []\n",
    "ruData = []\n",
    "usData = []\n",
    "for i in jsonData[1]:\n",
    "    valueString = str(i['value'])\n",
    "    if valueString == 'None':\n",
    "        thisValue = 0\n",
    "    else:\n",
    "        thisValue = float(str(i['value']))\n",
    "    if i['country']['value'] == 'China':\n",
    "        cnData.append(thisValue)\n",
    "    elif i['country']['value'] == 'Russian Federation':\n",
    "        ruData.append(thisValue)\n",
    "    elif i['country']['value'] == 'United States':\n",
    "        usData.append(thisValue)"
   ]
  },
  {
   "cell_type": "code",
   "execution_count": 76,
   "metadata": {
    "collapsed": false
   },
   "outputs": [],
   "source": [
    "maxVal = max( max(usData), max(ruData), max(cnData))\n",
    "minVal = min( min(usData), min(ruData), min(cnData))"
   ]
  },
  {
   "cell_type": "code",
   "execution_count": 77,
   "metadata": {
    "collapsed": false
   },
   "outputs": [],
   "source": [
    "minFreq = 200\n",
    "maxFreq = 2000\n",
    "\n",
    "cnFreqs = []\n",
    "ruFreqs = []\n",
    "usFreqs = []\n",
    "\n",
    "cnAmps = []\n",
    "ruAmps = []\n",
    "usAmps = []\n",
    "\n",
    "for i in cnData:\n",
    "    cnFreqs.append(((i - minVal) / (maxVal - minVal)) * (maxFreq - minFreq) + minFreq)\n",
    "    cnAmps.append(i/maxVal)\n",
    "for i in ruData:\n",
    "    ruFreqs.append(((i - minVal) / (maxVal - minVal)) * (maxFreq - minFreq) + minFreq)\n",
    "    ruAmps.append(i/maxVal)\n",
    "for i in usData:\n",
    "    usFreqs.append(((i - minVal) / (maxVal - minVal)) * (maxFreq - minFreq) + minFreq)\n",
    "    usAmps.append(i/maxVal)"
   ]
  },
  {
   "cell_type": "code",
   "execution_count": 97,
   "metadata": {
    "collapsed": false
   },
   "outputs": [
    {
     "name": "stdout",
     "output_type": "stream",
     "text": [
      "trying to run scsynth from /Applications/SuperCollider/SuperCollider.app/Contents/Resources/\n",
      "process.py start_local verbose is 1\n",
      "\n",
      "... ... Starting Supercollider Server ... ...\n",
      "\n",
      "/Applications/SuperCollider/SuperCollider.app/Contents/Resources/scsynth -u 57110 -i 2 -o 2\n",
      "['/done', '/notify']\n"
     ]
    }
   ],
   "source": [
    "scDir = '/Applications/SuperCollider/SuperCollider.app/Contents/Resources/'\n",
    "sc.start( exedir=scDir, verbose=1, spew=0, startscsynth=1, port=57110 )"
   ]
  },
  {
   "cell_type": "markdown",
   "metadata": {},
   "source": [
    "SynthDef(\\HW2, {\n",
    "\t|amp = 0.5, freq = 220, pan = 0|\n",
    "\tvar sig = SinOsc.ar(freq, 0, amp);\n",
    "\tOut.ar(0, Pan2.ar(sig, pan, 1.0));\n",
    "}).store"
   ]
  },
  {
   "cell_type": "code",
   "execution_count": 99,
   "metadata": {
    "collapsed": false
   },
   "outputs": [
    {
     "name": "stdout",
     "output_type": "stream",
     "text": [
      "['/n_end', 1001, 0, -1, 1002, 0]\n",
      "['/n_end', 1002, 0, -1, 1003, 0]\n",
      "['/n_end', 1003, 0, -1, -1, 0]\n",
      "1004 < created node id\n",
      "['/fail', '/n_set', 'Node 1004 not found']\n",
      "['/fail', '/n_set', 'Node 1004 not found']\n",
      "['/d_removed', 'HW2']\n",
      "['/done', '/d_load']\n",
      "1005 < created node id\n",
      "1006 < created node id\n",
      "['/n_go', 1004, 0, -1, -1, 0]\n",
      "['/n_go', 1005, 0, 1004, -1, 0]\n",
      "['/n_go', 1006, 0, 1005, -1, 0]\n",
      "['/fail', '/n_set', 'Node 1004 not found']\n",
      "['/fail', '/n_set', 'Node 1005 not found']\n",
      "['/fail', '/n_set', 'Node 1005 not found']\n",
      "['/fail', '/n_set', 'Node 1006 not found']\n",
      "['/fail', '/n_set', 'Node 1006 not found']\n"
     ]
    }
   ],
   "source": [
    "dur = 20\n",
    "timeout = time.time() + dur\n",
    "\n",
    "sCn = sc.Synth( \"HW2\" )\n",
    "sRu = sc.Synth( \"HW2\" )\n",
    "sUs = sc.Synth( \"HW2\" )\n",
    "\n",
    "ampScaler = 0.75\n",
    "x = 0\n",
    "while time.time() < timeout:\n",
    "    time.sleep(1.0/20)\n",
    "    sCn.freq = cnFreqs[x]\n",
    "    sCn.amp = ampScaler\n",
    "    sCn.pan = -1\n",
    "    sRu.freq = ruFreqs[x]\n",
    "    sRu.amp = ampScaler\n",
    "    sRu.pan = 0\n",
    "    sUs.freq = usFreqs[x]\n",
    "    sUs.amp = ampScaler\n",
    "    sUs.pan = 1\n",
    "    x += 1\n",
    "    if x >= len(cnFreqs):\n",
    "        x -= len(cnFreqs)\n",
    "    \n",
    "sCn.free()\n",
    "sRu.free()\n",
    "sUs.free()"
   ]
  },
  {
   "cell_type": "code",
   "execution_count": 95,
   "metadata": {
    "collapsed": false
   },
   "outputs": [
    {
     "name": "stdout",
     "output_type": "stream",
     "text": [
      "['/n_end', 1046, 0, -1, 1047, 0]\n",
      "['/n_end', 1047, 0, -1, 1048, 0]\n",
      "['/n_end', 1048, 0, -1, -1, 0]\n",
      "1049 < created node id\n",
      "['/fail', '/n_set', 'Node 1049 not found']\n",
      "['/fail', '/n_set', 'Node 1049 not found']\n",
      "['/d_removed', 'HW2']\n",
      "['/done', '/d_load']\n",
      "1050 < created node id\n",
      "1051 < created node id\n",
      "['/n_go', 1049, 0, -1, -1, 0]\n",
      "['/n_go', 1050, 0, 1049, -1, 0]\n",
      "['/n_go', 1051, 0, 1050, -1, 0]\n",
      "['/fail', '/n_set', 'Node 1049 not found']\n",
      "['/fail', '/n_set', 'Node 1050 not found']\n",
      "['/fail', '/n_set', 'Node 1050 not found']\n",
      "['/fail', '/n_set', 'Node 1051 not found']\n",
      "['/fail', '/n_set', 'Node 1051 not found']\n"
     ]
    },
    {
     "ename": "KeyboardInterrupt",
     "evalue": "",
     "output_type": "error",
     "traceback": [
      "\u001b[0;31m---------------------------------------------------------------------------\u001b[0m",
      "\u001b[0;31mKeyboardInterrupt\u001b[0m                         Traceback (most recent call last)",
      "\u001b[0;32m<ipython-input-95-9153d97260b9>\u001b[0m in \u001b[0;36m<module>\u001b[0;34m()\u001b[0m\n\u001b[1;32m      8\u001b[0m \u001b[0mx\u001b[0m \u001b[0;34m=\u001b[0m \u001b[0;36m0\u001b[0m\u001b[0;34m\u001b[0m\u001b[0m\n\u001b[1;32m      9\u001b[0m \u001b[0;32mwhile\u001b[0m \u001b[0mtime\u001b[0m\u001b[0;34m.\u001b[0m\u001b[0mtime\u001b[0m\u001b[0;34m(\u001b[0m\u001b[0;34m)\u001b[0m \u001b[0;34m<\u001b[0m \u001b[0mtimeout\u001b[0m\u001b[0;34m:\u001b[0m\u001b[0;34m\u001b[0m\u001b[0m\n\u001b[0;32m---> 10\u001b[0;31m     \u001b[0mtime\u001b[0m\u001b[0;34m.\u001b[0m\u001b[0msleep\u001b[0m\u001b[0;34m(\u001b[0m\u001b[0;36m1.0\u001b[0m\u001b[0;34m/\u001b[0m\u001b[0;36m10\u001b[0m\u001b[0;34m)\u001b[0m\u001b[0;34m\u001b[0m\u001b[0m\n\u001b[0m\u001b[1;32m     11\u001b[0m     \u001b[0msCn\u001b[0m\u001b[0;34m.\u001b[0m\u001b[0mfreq\u001b[0m \u001b[0;34m=\u001b[0m \u001b[0;36m670\u001b[0m\u001b[0;34m\u001b[0m\u001b[0m\n\u001b[1;32m     12\u001b[0m     \u001b[0msCn\u001b[0m\u001b[0;34m.\u001b[0m\u001b[0mamp\u001b[0m \u001b[0;34m=\u001b[0m \u001b[0mcnAmps\u001b[0m\u001b[0;34m[\u001b[0m\u001b[0mx\u001b[0m\u001b[0;34m]\u001b[0m\u001b[0;34m\u001b[0m\u001b[0m\n",
      "\u001b[0;31mKeyboardInterrupt\u001b[0m: "
     ]
    }
   ],
   "source": [
    "dur = 20\n",
    "timeout = time.time() + dur\n",
    "\n",
    "sCn = sc.Synth( \"HW2\" )\n",
    "sRu = sc.Synth( \"HW2\" )\n",
    "sUs = sc.Synth( \"HW2\" )\n",
    "\n",
    "x = 0\n",
    "while time.time() < timeout:\n",
    "    time.sleep(1.0/10)\n",
    "    sCn.freq = 670\n",
    "    sCn.amp = cnAmps[x]\n",
    "    sCn.pan = (cnAmps[x]*2) - 1\n",
    "    sRu.freq = 432\n",
    "    sRu.amp = ruAmps[x]\n",
    "    sRu.pan = (ruAmps[x]*2) - 1\n",
    "    sUs.freq = 1200\n",
    "    sUs.amp = usAmps[x]\n",
    "    sUs.pan = (usAmps[x]*2) - 1\n",
    "    x += 1\n",
    "    if x >= len(cnFreqs):\n",
    "        x -= len(cnFreqs)\n",
    "    \n",
    "sCn.free()\n",
    "sRu.free()\n",
    "sUs.free()"
   ]
  },
  {
   "cell_type": "code",
   "execution_count": 93,
   "metadata": {
    "collapsed": false
   },
   "outputs": [
    {
     "name": "stdout",
     "output_type": "stream",
     "text": [
      "['/n_end', 1041, 0, -1, 1042, 0]\n",
      "['/n_end', 1042, 0, -1, -1, 0]\n",
      "1043['/fail', '/n_set', 'Node 1043 not found']\n",
      " < created node id\n",
      "['/fail', '/n_set', 'Node 1043 not found']\n",
      "['/d_removed', 'HW2']\n",
      "['/done', '/d_load']\n",
      "1044 < created node id\n",
      "1045 < created node id\n",
      "['/n_go', 1043, 0, -1, -1, 0]\n",
      "['/n_go', 1044, 0, 1043, -1, 0]\n",
      "['/n_go', 1045, 0, 1044, -1, 0]\n",
      "['/fail', '/n_set', 'Node 1043 not found']\n",
      "['/fail', '/n_set', 'Node 1044 not found']\n",
      "['/fail', '/n_set', 'Node 1044 not found']\n",
      "['/fail', '/n_set', 'Node 1045 not found']\n",
      "['/fail', '/n_set', 'Node 1045 not found']\n",
      "['/n_end', 1043, 0, -1, 1044, 0]\n"
     ]
    }
   ],
   "source": [
    "dur = 20\n",
    "timeout = time.time() + dur\n",
    "\n",
    "sCn = sc.Synth( \"HW2\" )\n",
    "sRu = sc.Synth( \"HW2\" )\n",
    "sUs = sc.Synth( \"HW2\" )\n",
    "\n",
    "x = 0\n",
    "while time.time() < timeout:\n",
    "    time.sleep(1.0/20)\n",
    "    sCn.freq = cnFreqs[x]\n",
    "    sCn.amp = cnAmps[x]\n",
    "    sCn.pan = (cnAmps[x]*2) - 1\n",
    "    sRu.freq = ruFreqs[x]\n",
    "    sRu.amp = ruAmps[x]\n",
    "    sRu.pan = (ruAmps[x]*2) - 1\n",
    "    sUs.freq = usFreqs[x]\n",
    "    sUs.amp = usAmps[x]\n",
    "    sUs.pan = (usAmps[x]*2) - 1\n",
    "    x += 1\n",
    "    if x >= len(cnFreqs):\n",
    "        x -= len(cnFreqs)\n",
    "    \n",
    "sCn.free()\n",
    "sRu.free()\n",
    "sUs.free()"
   ]
  },
  {
   "cell_type": "code",
   "execution_count": 30,
   "metadata": {
    "collapsed": false
   },
   "outputs": [
    {
     "name": "stdout",
     "output_type": "stream",
     "text": [
      "['/n_end', 1004, 0, -1, 1005, 0]\n",
      "['/n_end', 1005, 0, -1, 1006, 0]\n",
      "['/n_end', 1006, 0, -1, -1, 0]\n",
      "['/fail', '/n_free', 'Node 1004 not found']\n",
      "['/fail', '/n_free', 'Node 1005 not found']\n",
      "['/fail', '/n_free', 'Node 1006 not found']\n"
     ]
    }
   ],
   "source": [
    "sCn.free()\n",
    "sRu.free()\n",
    "sUs.free()"
   ]
  },
  {
   "cell_type": "code",
   "execution_count": 96,
   "metadata": {
    "collapsed": false
   },
   "outputs": [],
   "source": [
    "sc.quit()"
   ]
  },
  {
   "cell_type": "code",
   "execution_count": null,
   "metadata": {
    "collapsed": true
   },
   "outputs": [],
   "source": []
  }
 ],
 "metadata": {
  "kernelspec": {
   "display_name": "Python 2",
   "language": "python",
   "name": "python2"
  },
  "language_info": {
   "codemirror_mode": {
    "name": "ipython",
    "version": 2
   },
   "file_extension": ".py",
   "mimetype": "text/x-python",
   "name": "python",
   "nbconvert_exporter": "python",
   "pygments_lexer": "ipython2",
   "version": "2.7.10"
  }
 },
 "nbformat": 4,
 "nbformat_minor": 0
}
